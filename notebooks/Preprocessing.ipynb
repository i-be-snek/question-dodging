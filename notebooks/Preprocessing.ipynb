{
 "cells": [
  {
   "cell_type": "markdown",
   "id": "009a4991",
   "metadata": {},
   "source": [
    "## Data Preprocessing\n",
    "\n",
    "To finetune the model on question-avoidance data, question dodging examples are needed. \n",
    "\n",
    "Data sources: \n",
    "\n",
    "- [Question Avoidance Study](https://github.com/YanaPalacheva/avoidance_study/tree/master), containing question-response pairs classified as avoidant and non-avoidant; if avoidant, they are classified to fight or flight responses.\n",
    "\n",
    "- [TODO: add more]\n",
    "\n",
    "\n",
    "To make various types of data usable for training a zero-shot [NLI (Natural Language Inference) model](https://nlpprogress.com/english/natural_language_inference.html) , the data needs to be relabelled as contradiction/neutral/entailment for pairs of premise and hypothesis texts. This [StackOverflow answer provides a decent explanation](https://stackoverflow.com/questions/76213873/how-to-finetune-a-zero-shot-model-for-text-classification). "
   ]
  },
  {
   "cell_type": "code",
   "execution_count": 1,
   "id": "81e92ccc-7ff1-44bf-b123-7c7acfb99071",
   "metadata": {},
   "outputs": [],
   "source": [
    "import pandas as pd\n",
    "import os\n",
    "\n",
    "annotated_data = {}\n",
    "raw_data_path = \"../data/raw\"\n",
    "data_path = \"../data/processed\""
   ]
  },
  {
   "cell_type": "markdown",
   "id": "36b88ea5-79ec-4e79-932d-41223cf93f5a",
   "metadata": {},
   "source": [
    "#### Question Avoidance Study"
   ]
  },
  {
   "cell_type": "code",
   "execution_count": 2,
   "id": "40e993e4",
   "metadata": {},
   "outputs": [],
   "source": [
    "# get the csv file from github\n",
    "import requests\n",
    "resp = requests.get(\"https://raw.githubusercontent.com/YanaPalacheva/avoidance_study/master/Annotation/Avoidance_annotated.csv\")\n",
    "\n",
    "dataset_name = \"question_avoidance\"\n",
    "filename = f\"{raw_data_path}/{dataset_name}.csv\" # \"question_avoidance.csv\"\n",
    "with open(filename, \"w\") as f:\n",
    "    content = str(resp.content, encoding=\"utf-8\")\n",
    "    f.write(content)"
   ]
  },
  {
   "cell_type": "code",
   "execution_count": 3,
   "id": "082edeed",
   "metadata": {},
   "outputs": [],
   "source": [
    "annotated_data[dataset_name] = pd.read_csv(filename)"
   ]
  },
  {
   "cell_type": "code",
   "execution_count": 4,
   "id": "2fa093dd",
   "metadata": {},
   "outputs": [
    {
     "data": {
      "text/html": [
       "<div>\n",
       "<style scoped>\n",
       "    .dataframe tbody tr th:only-of-type {\n",
       "        vertical-align: middle;\n",
       "    }\n",
       "\n",
       "    .dataframe tbody tr th {\n",
       "        vertical-align: top;\n",
       "    }\n",
       "\n",
       "    .dataframe thead th {\n",
       "        text-align: right;\n",
       "    }\n",
       "</style>\n",
       "<table border=\"1\" class=\"dataframe\">\n",
       "  <thead>\n",
       "    <tr style=\"text-align: right;\">\n",
       "      <th></th>\n",
       "      <th>index</th>\n",
       "      <th>dataset</th>\n",
       "      <th>id_a</th>\n",
       "      <th>id_q</th>\n",
       "      <th>meta.pair_idx</th>\n",
       "      <th>text_q</th>\n",
       "      <th>text_a</th>\n",
       "      <th>if_q_1</th>\n",
       "      <th>avoid_rate_1</th>\n",
       "      <th>avoid_type_1</th>\n",
       "      <th>if_q_2</th>\n",
       "      <th>avoid_rate_2</th>\n",
       "      <th>avoid_type_2</th>\n",
       "      <th>if_q_3</th>\n",
       "      <th>avoid_rate_3</th>\n",
       "      <th>avoid_type_3</th>\n",
       "      <th>avoid_rate_avg</th>\n",
       "      <th>avoid_type_avg</th>\n",
       "    </tr>\n",
       "  </thead>\n",
       "  <tbody>\n",
       "    <tr>\n",
       "      <th>196</th>\n",
       "      <td>236</td>\n",
       "      <td>CDC</td>\n",
       "      <td>t1_chrijcr</td>\n",
       "      <td>t3_26j0zc</td>\n",
       "      <td>NaN</td>\n",
       "      <td>I am forced to wear jean shorts for an event. ...</td>\n",
       "      <td>denim jacket with navy blue shoes and a denim ...</td>\n",
       "      <td>Q</td>\n",
       "      <td>0.0</td>\n",
       "      <td>NaN</td>\n",
       "      <td>Q</td>\n",
       "      <td>0.0</td>\n",
       "      <td>NaN</td>\n",
       "      <td>NQ</td>\n",
       "      <td>NaN</td>\n",
       "      <td>NaN</td>\n",
       "      <td>0.0</td>\n",
       "      <td>NaN</td>\n",
       "    </tr>\n",
       "    <tr>\n",
       "      <th>279</th>\n",
       "      <td>333</td>\n",
       "      <td>CDC</td>\n",
       "      <td>t1_cia6m66</td>\n",
       "      <td>t3_28en5d</td>\n",
       "      <td>NaN</td>\n",
       "      <td>I'm a young guy with two weeks off and about $...</td>\n",
       "      <td>The first time I went to an actually nice beac...</td>\n",
       "      <td>Q</td>\n",
       "      <td>0.0</td>\n",
       "      <td>NaN</td>\n",
       "      <td>Q</td>\n",
       "      <td>0.0</td>\n",
       "      <td>NaN</td>\n",
       "      <td>Q</td>\n",
       "      <td>0.0</td>\n",
       "      <td>NaN</td>\n",
       "      <td>0.0</td>\n",
       "      <td>NaN</td>\n",
       "    </tr>\n",
       "    <tr>\n",
       "      <th>377</th>\n",
       "      <td>448</td>\n",
       "      <td>PQTC</td>\n",
       "      <td>2013-02-06a.262.8</td>\n",
       "      <td>2013-02-06a.262.5</td>\n",
       "      <td>2013-02-06.3.0</td>\n",
       "      <td>I thank the Minister for that answer and welco...</td>\n",
       "      <td>The hon Gentleman is talking total nonsense . ...</td>\n",
       "      <td>Q</td>\n",
       "      <td>3.0</td>\n",
       "      <td>Fight</td>\n",
       "      <td>NQ</td>\n",
       "      <td>NaN</td>\n",
       "      <td>NaN</td>\n",
       "      <td>Q</td>\n",
       "      <td>4.0</td>\n",
       "      <td>Fight</td>\n",
       "      <td>3.5</td>\n",
       "      <td>Fight</td>\n",
       "    </tr>\n",
       "  </tbody>\n",
       "</table>\n",
       "</div>"
      ],
      "text/plain": [
       "     index dataset               id_a               id_q   meta.pair_idx  \\\n",
       "196    236     CDC         t1_chrijcr          t3_26j0zc             NaN   \n",
       "279    333     CDC         t1_cia6m66          t3_28en5d             NaN   \n",
       "377    448    PQTC  2013-02-06a.262.8  2013-02-06a.262.5  2013-02-06.3.0   \n",
       "\n",
       "                                                text_q  \\\n",
       "196  I am forced to wear jean shorts for an event. ...   \n",
       "279  I'm a young guy with two weeks off and about $...   \n",
       "377  I thank the Minister for that answer and welco...   \n",
       "\n",
       "                                                text_a if_q_1  avoid_rate_1  \\\n",
       "196  denim jacket with navy blue shoes and a denim ...      Q           0.0   \n",
       "279  The first time I went to an actually nice beac...      Q           0.0   \n",
       "377  The hon Gentleman is talking total nonsense . ...      Q           3.0   \n",
       "\n",
       "    avoid_type_1 if_q_2  avoid_rate_2 avoid_type_2 if_q_3  avoid_rate_3  \\\n",
       "196          NaN      Q           0.0          NaN     NQ           NaN   \n",
       "279          NaN      Q           0.0          NaN      Q           0.0   \n",
       "377        Fight     NQ           NaN          NaN      Q           4.0   \n",
       "\n",
       "    avoid_type_3  avoid_rate_avg avoid_type_avg  \n",
       "196          NaN             0.0            NaN  \n",
       "279          NaN             0.0            NaN  \n",
       "377        Fight             3.5          Fight  "
      ]
     },
     "execution_count": 4,
     "metadata": {},
     "output_type": "execute_result"
    }
   ],
   "source": [
    "annotated_data[dataset_name].sample(3)"
   ]
  },
  {
   "cell_type": "code",
   "execution_count": 5,
   "id": "5ef744ef",
   "metadata": {},
   "outputs": [
    {
     "data": {
      "text/plain": [
       "count    167.000000\n",
       "mean       0.232535\n",
       "std        0.306095\n",
       "min        0.000000\n",
       "25%        0.000000\n",
       "50%        0.000000\n",
       "75%        0.333333\n",
       "max        1.333333\n",
       "Name: avoid_rate_avg, dtype: float64"
      ]
     },
     "execution_count": 5,
     "metadata": {},
     "output_type": "execute_result"
    }
   ],
   "source": [
    "# rows with no avoid_type_avg (NaNs) are examples of non-avoidant answers\n",
    "annotated_data[dataset_name].avoid_type_avg.fillna(\"non-avoidant\", inplace=True)\n",
    "\n",
    "# to verify this, the avoid_rate_avg of these is likely low or below 2\n",
    "non_avoidant = annotated_data[dataset_name][annotated_data[dataset_name].avoid_type_avg == \"non-avoidant\"]\n",
    "non_avoidant.avoid_rate_avg.describe()\n"
   ]
  },
  {
   "cell_type": "code",
   "execution_count": 6,
   "id": "5f8cc3db",
   "metadata": {},
   "outputs": [
    {
     "data": {
      "text/plain": [
       "avoid_type_avg\n",
       "Flight            204\n",
       "non-avoidant      167\n",
       "Fight              28\n",
       "Undetermined       24\n",
       "Name: count, dtype: int64"
      ]
     },
     "execution_count": 6,
     "metadata": {},
     "output_type": "execute_result"
    }
   ],
   "source": [
    "# Checking that the data is correct\n",
    "annotated_data[dataset_name][[\"avoid_type_avg\"]].value_counts()"
   ]
  },
  {
   "cell_type": "code",
   "execution_count": 7,
   "metadata": {},
   "outputs": [
    {
     "data": {
      "text/html": [
       "<div>\n",
       "<style scoped>\n",
       "    .dataframe tbody tr th:only-of-type {\n",
       "        vertical-align: middle;\n",
       "    }\n",
       "\n",
       "    .dataframe tbody tr th {\n",
       "        vertical-align: top;\n",
       "    }\n",
       "\n",
       "    .dataframe thead th {\n",
       "        text-align: right;\n",
       "    }\n",
       "</style>\n",
       "<table border=\"1\" class=\"dataframe\">\n",
       "  <thead>\n",
       "    <tr style=\"text-align: right;\">\n",
       "      <th></th>\n",
       "      <th>avoid_rate_avg</th>\n",
       "    </tr>\n",
       "  </thead>\n",
       "  <tbody>\n",
       "    <tr>\n",
       "      <th>count</th>\n",
       "      <td>423.000000</td>\n",
       "    </tr>\n",
       "    <tr>\n",
       "      <th>mean</th>\n",
       "      <td>1.700552</td>\n",
       "    </tr>\n",
       "    <tr>\n",
       "      <th>std</th>\n",
       "      <td>1.424706</td>\n",
       "    </tr>\n",
       "    <tr>\n",
       "      <th>min</th>\n",
       "      <td>0.000000</td>\n",
       "    </tr>\n",
       "    <tr>\n",
       "      <th>25%</th>\n",
       "      <td>0.333333</td>\n",
       "    </tr>\n",
       "    <tr>\n",
       "      <th>50%</th>\n",
       "      <td>1.333333</td>\n",
       "    </tr>\n",
       "    <tr>\n",
       "      <th>75%</th>\n",
       "      <td>3.000000</td>\n",
       "    </tr>\n",
       "    <tr>\n",
       "      <th>max</th>\n",
       "      <td>4.000000</td>\n",
       "    </tr>\n",
       "  </tbody>\n",
       "</table>\n",
       "</div>"
      ],
      "text/plain": [
       "       avoid_rate_avg\n",
       "count      423.000000\n",
       "mean         1.700552\n",
       "std          1.424706\n",
       "min          0.000000\n",
       "25%          0.333333\n",
       "50%          1.333333\n",
       "75%          3.000000\n",
       "max          4.000000"
      ]
     },
     "execution_count": 7,
     "metadata": {},
     "output_type": "execute_result"
    }
   ],
   "source": [
    "annotated_data[dataset_name][[\"avoid_rate_avg\"]].describe()"
   ]
  },
  {
   "cell_type": "markdown",
   "id": "b121725f",
   "metadata": {},
   "source": [
    "#### Fitting the data fo an NLI task"
   ]
  },
  {
   "cell_type": "code",
   "execution_count": 8,
   "id": "3aa05b07",
   "metadata": {},
   "outputs": [],
   "source": [
    "def avoid_rate_to_id(avoid_rate: float):\n",
    "    if avoid_rate >= 2.0:\n",
    "        return 0 # entailment, high avoidance\n",
    "    elif avoid_rate >= 1.0 and avoid_rate < 2.0:\n",
    "        return 1 # neutral\n",
    "    else:\n",
    "        return 2 # contradiction"
   ]
  },
  {
   "cell_type": "code",
   "execution_count": 9,
   "id": "c2cdda8d",
   "metadata": {},
   "outputs": [],
   "source": [
    "# make a copy of the dataset\n",
    "processed_dataset = f\"{dataset_name}_preprocessed\"\n",
    "annotated_data[processed_dataset] = annotated_data[dataset_name]"
   ]
  },
  {
   "cell_type": "code",
   "execution_count": 10,
   "id": "3c52db3c",
   "metadata": {},
   "outputs": [],
   "source": [
    "annotated_data[processed_dataset].rename(columns={\"text_q\": \"question\", \"text_a\": \"answer\"}, inplace=True)\n",
    "#data[\"label\"] = data[\"avoid_rate_avg\"].apply(lambda x: id2label[avoid_rate_to_id(x)])\n",
    "annotated_data[processed_dataset][\"label\"] = annotated_data[processed_dataset][\"avoid_rate_avg\"].apply(lambda x: avoid_rate_to_id(x))"
   ]
  },
  {
   "cell_type": "code",
   "execution_count": 11,
   "id": "fb3616a7",
   "metadata": {},
   "outputs": [],
   "source": [
    "annotated_data[processed_dataset] = annotated_data[processed_dataset][[\"question\", \"answer\", \"label\"]]"
   ]
  },
  {
   "cell_type": "code",
   "execution_count": 12,
   "id": "0d15fe09",
   "metadata": {},
   "outputs": [
    {
     "data": {
      "text/html": [
       "<div>\n",
       "<style scoped>\n",
       "    .dataframe tbody tr th:only-of-type {\n",
       "        vertical-align: middle;\n",
       "    }\n",
       "\n",
       "    .dataframe tbody tr th {\n",
       "        vertical-align: top;\n",
       "    }\n",
       "\n",
       "    .dataframe thead th {\n",
       "        text-align: right;\n",
       "    }\n",
       "</style>\n",
       "<table border=\"1\" class=\"dataframe\">\n",
       "  <thead>\n",
       "    <tr style=\"text-align: right;\">\n",
       "      <th></th>\n",
       "      <th>question</th>\n",
       "      <th>answer</th>\n",
       "      <th>label</th>\n",
       "    </tr>\n",
       "  </thead>\n",
       "  <tbody>\n",
       "    <tr>\n",
       "      <th>54</th>\n",
       "      <td>I'm going to launch something big at my player...</td>\n",
       "      <td>Technically this would be resolved with a grap...</td>\n",
       "      <td>2</td>\n",
       "    </tr>\n",
       "    <tr>\n",
       "      <th>326</th>\n",
       "      <td>In the course of reviewing that assessment , w...</td>\n",
       "      <td>I thank my hon Friend for that question . I do...</td>\n",
       "      <td>0</td>\n",
       "    </tr>\n",
       "    <tr>\n",
       "      <th>133</th>\n",
       "      <td>The Secretary of State will recognise that tou...</td>\n",
       "      <td>In February or March 1996 .</td>\n",
       "      <td>0</td>\n",
       "    </tr>\n",
       "  </tbody>\n",
       "</table>\n",
       "</div>"
      ],
      "text/plain": [
       "                                              question  \\\n",
       "54   I'm going to launch something big at my player...   \n",
       "326  In the course of reviewing that assessment , w...   \n",
       "133  The Secretary of State will recognise that tou...   \n",
       "\n",
       "                                                answer  label  \n",
       "54   Technically this would be resolved with a grap...      2  \n",
       "326  I thank my hon Friend for that question . I do...      0  \n",
       "133                        In February or March 1996 .      0  "
      ]
     },
     "execution_count": 12,
     "metadata": {},
     "output_type": "execute_result"
    }
   ],
   "source": [
    "annotated_data[processed_dataset].sample(3)"
   ]
  },
  {
   "cell_type": "markdown",
   "id": "c70313af",
   "metadata": {},
   "source": [
    "#### Save the data as parquet"
   ]
  },
  {
   "cell_type": "code",
   "execution_count": 13,
   "id": "1d1f2f27",
   "metadata": {},
   "outputs": [
    {
     "name": "stdout",
     "output_type": "stream",
     "text": [
      "../data/processed/question_avoidance_dataset.parquet\n",
      "../data/processed/question_avoidance_preprocessed_dataset.parquet\n"
     ]
    }
   ],
   "source": [
    "annotated_data_files = annotated_data.keys()\n",
    "for i in annotated_data_files:\n",
    "    parquet_filename = f\"{data_path}/{i}_dataset.parquet\"\n",
    "    print(parquet_filename)\n",
    "    annotated_data[i].to_parquet(parquet_filename, engine=\"pyarrow\")"
   ]
  }
 ],
 "metadata": {
  "kernelspec": {
   "display_name": "Python 3 (ipykernel)",
   "language": "python",
   "name": "python3"
  },
  "language_info": {
   "codemirror_mode": {
    "name": "ipython",
    "version": 3
   },
   "file_extension": ".py",
   "mimetype": "text/x-python",
   "name": "python",
   "nbconvert_exporter": "python",
   "pygments_lexer": "ipython3",
   "version": "3.10.12"
  }
 },
 "nbformat": 4,
 "nbformat_minor": 5
}
