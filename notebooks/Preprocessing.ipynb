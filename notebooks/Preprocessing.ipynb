{
 "cells": [
  {
   "cell_type": "markdown",
   "id": "009a4991",
   "metadata": {},
   "source": [
    "## Data Preprocessing\n",
    "\n",
    "To finetune the model on question-avoidance data, question dodging examples are needed. \n",
    "\n",
    "Data sources: \n",
    "\n",
    "- [Question Avoidance Study](https://github.com/YanaPalacheva/avoidance_study/tree/master), containing question-response pairs classified as avoidant and non-avoidant; if avoidant, they are classified to fight or flight responses.\n",
    "\n",
    "- [TODO: add more]\n",
    "\n",
    "\n",
    "To make various types of data usable for training a zero-shot [NLI (Natural Language Inference) model](https://nlpprogress.com/english/natural_language_inference.html) , the data needs to be relabelled as contradiction/neutral/entailment for pairs of premise and hypothesis texts. This [StackOverflow answer provides a decent explanation](https://stackoverflow.com/questions/76213873/how-to-finetune-a-zero-shot-model-for-text-classification). "
   ]
  },
  {
   "cell_type": "code",
   "execution_count": null,
   "id": "81e92ccc-7ff1-44bf-b123-7c7acfb99071",
   "metadata": {},
   "outputs": [],
   "source": [
    "import pandas as pd\n",
    "import os\n",
    "\n",
    "annotated_data = {}\n",
    "raw_data_path = \"../data/raw\"\n",
    "data_path = \"../data\""
   ]
  },
  {
   "cell_type": "markdown",
   "id": "36b88ea5-79ec-4e79-932d-41223cf93f5a",
   "metadata": {},
   "source": [
    "#### Question Avoidance Study"
   ]
  },
  {
   "cell_type": "code",
   "execution_count": null,
   "id": "40e993e4",
   "metadata": {},
   "outputs": [],
   "source": [
    "# get the csv file from github\n",
    "import requests\n",
    "resp = requests.get(\"https://raw.githubusercontent.com/YanaPalacheva/avoidance_study/master/Annotation/Avoidance_annotated.csv\")\n",
    "\n",
    "dataset_name = \"question_avoidance\"\n",
    "filename = f\"{raw_data_path}/{dataset_name}.csv\" # \"question_avoidance.csv\"\n",
    "with open(filename, \"w\") as f:\n",
    "    content = str(resp.content, encoding=\"utf-8\")\n",
    "    f.write(content)"
   ]
  },
  {
   "cell_type": "code",
   "execution_count": null,
   "id": "082edeed",
   "metadata": {},
   "outputs": [],
   "source": [
    "annotated_data[dataset_name] = pd.read_csv(filename)"
   ]
  },
  {
   "cell_type": "code",
   "execution_count": null,
   "id": "2fa093dd",
   "metadata": {},
   "outputs": [],
   "source": [
    "annotated_data[dataset_name].sample(3)"
   ]
  },
  {
   "cell_type": "code",
   "execution_count": null,
   "id": "5ef744ef",
   "metadata": {},
   "outputs": [],
   "source": [
    "# rows with no avoid_type_avg (NaNs) are examples of non-avoidant answers\n",
    "annotated_data[dataset_name].avoid_type_avg.fillna(\"non-avoidant\", inplace=True)\n",
    "\n",
    "# to verify this, the avoid_rate_avg of these is likely low or below 2\n",
    "non_avoidant = annotated_data[dataset_name][annotated_data[dataset_name].avoid_type_avg == \"non-avoidant\"]\n",
    "non_avoidant.avoid_rate_avg.describe()\n"
   ]
  },
  {
   "cell_type": "code",
   "execution_count": null,
   "id": "5f8cc3db",
   "metadata": {},
   "outputs": [],
   "source": [
    "# Checking that the data is correct\n",
    "annotated_data[dataset_name][[\"avoid_type_avg\"]].value_counts()"
   ]
  },
  {
   "cell_type": "code",
   "execution_count": null,
   "metadata": {},
   "outputs": [],
   "source": [
    "annotated_data[dataset_name][[\"avoid_rate_avg\"]].describe()"
   ]
  },
  {
   "cell_type": "markdown",
   "id": "b121725f",
   "metadata": {},
   "source": [
    "#### Fitting the data fo an NLI task"
   ]
  },
  {
   "cell_type": "code",
   "execution_count": null,
   "id": "3aa05b07",
   "metadata": {},
   "outputs": [],
   "source": [
    "def avoid_rate_to_id(avoid_rate: float):\n",
    "    if avoid_rate >= 2.0:\n",
    "        return 0 # entailment, high avoidance\n",
    "    elif avoid_rate >= 1.0 and avoid_rate < 2.0:\n",
    "        return 1 # neutral\n",
    "    else:\n",
    "        return 2 # contradiction"
   ]
  },
  {
   "cell_type": "code",
   "execution_count": null,
   "id": "c2cdda8d",
   "metadata": {},
   "outputs": [],
   "source": [
    "# make a copy of the dataset\n",
    "processed_dataset = f\"{dataset_name}_preprocessed\"\n",
    "annotated_data[processed_dataset] = annotated_data[dataset_name]"
   ]
  },
  {
   "cell_type": "code",
   "execution_count": null,
   "id": "3c52db3c",
   "metadata": {},
   "outputs": [],
   "source": [
    "annotated_data[processed_dataset].rename(columns={\"text_q\": \"question\", \"text_a\": \"answer\"}, inplace=True)\n",
    "#data[\"label\"] = data[\"avoid_rate_avg\"].apply(lambda x: id2label[avoid_rate_to_id(x)])\n",
    "annotated_data[processed_dataset][\"label\"] = annotated_data[processed_dataset][\"avoid_rate_avg\"].apply(lambda x: avoid_rate_to_id(x))"
   ]
  },
  {
   "cell_type": "markdown",
   "id": "6a382c0b",
   "metadata": {},
   "source": []
  },
  {
   "cell_type": "code",
   "execution_count": null,
   "id": "fb3616a7",
   "metadata": {},
   "outputs": [],
   "source": [
    "annotated_data[processed_dataset] = annotated_data[processed_dataset][[\"question\", \"answer\", \"label\"]]"
   ]
  },
  {
   "cell_type": "code",
   "execution_count": null,
   "id": "0d15fe09",
   "metadata": {},
   "outputs": [],
   "source": [
    "annotated_data[processed_dataset].sample(3)"
   ]
  },
  {
   "cell_type": "markdown",
   "id": "c70313af",
   "metadata": {},
   "source": [
    "#### Save the data as parquet"
   ]
  },
  {
   "cell_type": "code",
   "execution_count": null,
   "id": "1d1f2f27",
   "metadata": {},
   "outputs": [],
   "source": [
    "annotated_data_files = annotated_data.keys()\n",
    "for i in annotated_data_files:\n",
    "    parquet_filename = f\"{data_path}/{i}_dataset.parquet\"\n",
    "    print(parquet_filename)\n",
    "    annotated_data[i].to_parquet(parquet_filename, engine=\"pyarrow\")"
   ]
  },
  {
   "cell_type": "code",
   "execution_count": null,
   "metadata": {},
   "outputs": [],
   "source": []
  }
 ],
 "metadata": {
  "kernelspec": {
   "display_name": "Python 3 (ipykernel)",
   "language": "python",
   "name": "python3"
  },
  "language_info": {
   "codemirror_mode": {
    "name": "ipython",
    "version": 3
   },
   "file_extension": ".py",
   "mimetype": "text/x-python",
   "name": "python",
   "nbconvert_exporter": "python",
   "pygments_lexer": "ipython3",
   "version": "3.10.12"
  }
 },
 "nbformat": 4,
 "nbformat_minor": 5
}
