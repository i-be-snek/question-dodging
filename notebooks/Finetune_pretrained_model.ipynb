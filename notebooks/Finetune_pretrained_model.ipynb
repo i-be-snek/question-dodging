{
 "cells": [
  {
   "cell_type": "code",
   "execution_count": null,
   "id": "2c367521",
   "metadata": {},
   "outputs": [],
   "source": [
    "from huggingface_hub import notebook_login\n",
    "\n",
    "notebook_login()\n"
   ]
  },
  {
   "cell_type": "code",
   "execution_count": null,
   "id": "a5d7fa3b",
   "metadata": {},
   "outputs": [],
   "source": [
    "from transformers.utils import send_example_telemetry\n",
    "send_example_telemetry(\"language_modeling_notebook_finetuning_nli\", framework=\"tensorflow\")"
   ]
  },
  {
   "cell_type": "code",
   "execution_count": null,
   "id": "380dc655",
   "metadata": {},
   "outputs": [],
   "source": [
    "def clear_gpu_mem(): \n",
    "    from numba import cuda \n",
    "    device = cuda.get_current_device()\n",
    "    device.reset()"
   ]
  },
  {
   "cell_type": "markdown",
   "id": "7c9ad57a-ef76-4c9c-828e-918d9afe2ffc",
   "metadata": {
    "id": "7c9ad57a-ef76-4c9c-828e-918d9afe2ffc"
   },
   "source": [
    "#### Load finetuning data"
   ]
  },
  {
   "cell_type": "code",
   "execution_count": null,
   "id": "42bee734-9884-4fd1-ad70-decb33927b5f",
   "metadata": {
    "id": "42bee734-9884-4fd1-ad70-decb33927b5f"
   },
   "outputs": [],
   "source": [
    "from sklearn.model_selection import train_test_split # for more convenient data splitting\n",
    "import numpy as np\n",
    "import pandas as pd\n",
    "\n",
    "from datasets import Dataset, DatasetDict # to create Dataset objects\n",
    "import pprint\n",
    "import tensorflow as tf\n",
    "\n",
    "import mlflow # for ml tracking\n",
    "\n",
    "from string import Template # to template the premise and hypothesis for the NLI task"
   ]
  },
  {
   "cell_type": "code",
   "execution_count": null,
   "id": "d91a647c",
   "metadata": {},
   "outputs": [],
   "source": [
    "pd.set_option(\"display.max_colwidth\", None)\n",
    "pd.set_option(\"colheader_justify\", \"left\")\n",
    "\n",
    "path = \"../data\"\n",
    "dataset_files = [\"question_avoidance_preprocessed_dataset.parquet\"]\n",
    "finetuning_datasets = {}\n",
    "for i in dataset_files:\n",
    "    finetuning_datasets[i.split(\".parquet\")[0]] = pd.read_parquet(f\"{path}/{i}\", engine=\"pyarrow\")"
   ]
  },
  {
   "cell_type": "code",
   "execution_count": null,
   "id": "03b06bf9",
   "metadata": {},
   "outputs": [],
   "source": [
    "print(\"Available datasets:\", list(finetuning_datasets.keys()))"
   ]
  },
  {
   "cell_type": "markdown",
   "id": "a0cc04ff",
   "metadata": {},
   "source": [
    "#### Initialize mlflow\n",
    "\n",
    "To launch the ui:\n",
    "\n",
    "```shell\n",
    "poetry run mlflow ui\n",
    "```"
   ]
  },
  {
   "cell_type": "code",
   "execution_count": null,
   "id": "23aaeb87-a51e-4546-8858-ef81d6ff9e25",
   "metadata": {
    "id": "23aaeb87-a51e-4546-8858-ef81d6ff9e25"
   },
   "outputs": [],
   "source": [
    "mlflow.set_experiment(\"Question Dodging 1\")\n",
    "mlflow.set_tracking_uri(\"http://127.0.0.1:5000\")\n",
    "\n",
    "# autologging\n",
    "mlflow.tensorflow.autolog()"
   ]
  },
  {
   "cell_type": "markdown",
   "id": "dd1a792a",
   "metadata": {},
   "source": [
    "#### Set up GPU"
   ]
  },
  {
   "cell_type": "code",
   "execution_count": null,
   "id": "a875d44c-8724-48d5-ba77-a80f792e8234",
   "metadata": {},
   "outputs": [],
   "source": [
    "gpus = tf.config.list_physical_devices('GPU')\n",
    "if gpus:\n",
    "  # Restrict TensorFlow to only allocate 1GB of memory on the first GPU\n",
    "  try:\n",
    "    print(gpus)\n",
    "    tf.config.experimental.set_memory_growth(gpus[0], True)\n",
    "    \"\"\"\n",
    "    tf.config.set_logical_device_configuration(\n",
    "        gpus[0],\n",
    "        [tf.config.LogicalDeviceConfiguration(memory_limit=1024)])\n",
    "    logical_gpus = tf.config.list_logical_devices('GPU')\n",
    "    print(len(gpus), \"Physical GPUs,\", len(logical_gpus), \"Logical GPUs\")\n",
    "    \"\"\";\n",
    "  except RuntimeError as e:\n",
    "    # Virtual devices must be set before GPUs have been initialized\n",
    "    print(e)\n"
   ]
  },
  {
   "cell_type": "markdown",
   "id": "d0cc5207",
   "metadata": {},
   "source": [
    "It's important to reformulate the premise and hypothesis fed into the model. Example:"
   ]
  },
  {
   "cell_type": "markdown",
   "id": "a4903aa6-735d-452a-a2c4-371357ef53e0",
   "metadata": {
    "id": "a4903aa6-735d-452a-a2c4-371357ef53e0"
   },
   "source": [
    "#### Load zero-shot model\n",
    "\n",
    "There is a number of zero-shot classification models that could be used. \n",
    "\n",
    "One example is [typeform/distilbert-base-uncased-mnli](https://huggingface.co/typeform/distilbert-base-uncased-mnli). It supports TF/Keras as well and performs okay-ish.\n",
    "\n",
    "Other good options:\n",
    "- https://huggingface.co/facebook/bart-large-mnli (for English only)\n",
    "- https://huggingface.co/MoritzLaurer/DeBERTa-v3-base-mnli-fever-anli (outperforms other models)\n",
    "- https://huggingface.co/joeddav/xlm-roberta-large-xnli (multilingual)"
   ]
  },
  {
   "cell_type": "code",
   "execution_count": null,
   "id": "3445ea46",
   "metadata": {},
   "outputs": [],
   "source": [
    "from transformers import AutoTokenizer, TFAutoModelForSequenceClassification"
   ]
  },
  {
   "cell_type": "code",
   "execution_count": null,
   "id": "653c0318-1f0e-4a03-a582-68c5876f89b9",
   "metadata": {
    "colab": {
     "base_uri": "https://localhost:8080/"
    },
    "id": "653c0318-1f0e-4a03-a582-68c5876f89b9",
    "outputId": "b5e5aa70-e68c-4ec0-d7fb-f6ae18ffd9ed",
    "scrolled": true
   },
   "outputs": [],
   "source": [
    "# loading the model\n",
    "model_name = \"typeform/distilbert-base-uncased-mnli\"\n",
    "\n",
    "tokenizer = AutoTokenizer.from_pretrained(model_name)\n",
    "print(\"loading model\")\n",
    "\n",
    "model = TFAutoModelForSequenceClassification.from_pretrained(model_name)\n",
    "num_labels = len(model.config.id2label)\n",
    "\n",
    "print(\"loaded\")"
   ]
  },
  {
   "cell_type": "code",
   "execution_count": null,
   "id": "21f10a62-4b31-4c5a-88e7-e3f2fb5a3bd3",
   "metadata": {
    "colab": {
     "base_uri": "https://localhost:8080/"
    },
    "id": "21f10a62-4b31-4c5a-88e7-e3f2fb5a3bd3",
    "outputId": "d3a8af59-5479-4350-8d45-69231839e2ff"
   },
   "outputs": [],
   "source": [
    "# reload the model wi th the correct config\n",
    "\n",
    "id2label = model.config.id2label\n",
    "print(id2label)\n",
    "label2id = {val: key for key, val in id2label.items()}\n",
    "del model\n",
    "\n",
    "#with strategy.scope():\n",
    "\n",
    "model = TFAutoModelForSequenceClassification.from_pretrained(\n",
    "    model_name,\n",
    "    num_labels=num_labels,\n",
    "    id2label=id2label,\n",
    "    label2id=label2id)"
   ]
  },
  {
   "cell_type": "markdown",
   "id": "aea8cd4b-80ff-4d51-83c4-c6d762b72d7c",
   "metadata": {
    "id": "aea8cd4b-80ff-4d51-83c4-c6d762b72d7c"
   },
   "source": [
    "#### Load preprocesssed data"
   ]
  },
  {
   "cell_type": "code",
   "execution_count": null,
   "id": "61248b97-7864-4cf8-ad92-e52d8320830e",
   "metadata": {
    "id": "61248b97-7864-4cf8-ad92-e52d8320830e"
   },
   "outputs": [],
   "source": [
    "list_of_datasets = [finetuning_datasets[dataset] for dataset in finetuning_datasets]\n",
    "data = pd.concat(list_of_datasets)\n",
    "\n",
    "del finetuning_datasets\n",
    "data.sample(3)"
   ]
  },
  {
   "cell_type": "markdown",
   "id": "5960e060",
   "metadata": {},
   "source": [
    "One could use the `train_test_split` method from `datasets` ([source](https://huggingface.co/docs/datasets/v2.14.5/en/package_reference/main_classes)) which readily splits a dataset object to a train and test set, but using the sklearn one makes it easier to get a train, test, and validation split. "
   ]
  },
  {
   "cell_type": "code",
   "execution_count": null,
   "id": "e53ac346-1f09-489b-a5ce-6f8decb70a5d",
   "metadata": {
    "id": "e53ac346-1f09-489b-a5ce-6f8decb70a5d"
   },
   "outputs": [],
   "source": [
    "X = data[[\"question\", \"answer\"]]\n",
    "y = data[[\"label\"]]\n",
    "\n",
    "X_train, X_test, y_train, y_test  = train_test_split(X, y, test_size=0.2, random_state=1)\n",
    "\n",
    "X_train, X_val, y_train, y_val  = train_test_split(X_train, y_train, test_size=0.25, random_state=1) # 0.25 x 0.8 = 0.2"
   ]
  },
  {
   "cell_type": "code",
   "execution_count": null,
   "id": "0de5bae6-7170-4a65-9f07-0f664e9ce4a1",
   "metadata": {
    "id": "0de5bae6-7170-4a65-9f07-0f664e9ce4a1"
   },
   "outputs": [],
   "source": [
    "train_dataset = pd.concat([X_train, y_train], axis=1)\n",
    "test_dataset = pd.concat([X_test, y_test], axis=1)\n",
    "val_dataset = pd.concat([X_val, y_val], axis=1)"
   ]
  },
  {
   "cell_type": "code",
   "execution_count": null,
   "id": "ec6a9d7d-3fd6-4225-b09c-63a3b67cd082",
   "metadata": {
    "id": "ec6a9d7d-3fd6-4225-b09c-63a3b67cd082"
   },
   "outputs": [],
   "source": [
    "train_dataset = Dataset.from_pandas(train_dataset, preserve_index=False)\n",
    "test_dataset = Dataset.from_pandas(test_dataset, preserve_index=False)\n",
    "val_dataset = Dataset.from_pandas(val_dataset, preserve_index=False)"
   ]
  },
  {
   "cell_type": "code",
   "execution_count": null,
   "id": "4154011f-ff99-45ea-a8d6-a2b1e2027ed9",
   "metadata": {
    "id": "4154011f-ff99-45ea-a8d6-a2b1e2027ed9"
   },
   "outputs": [],
   "source": [
    "del data, X, y"
   ]
  },
  {
   "cell_type": "code",
   "execution_count": null,
   "id": "a9879668-21cd-4c55-8c1c-877e3ff0735a",
   "metadata": {
    "id": "a9879668-21cd-4c55-8c1c-877e3ff0735a"
   },
   "outputs": [],
   "source": [
    "dataset = DatasetDict({\"train\": train_dataset, \"test\": test_dataset, \"val\": val_dataset})"
   ]
  },
  {
   "cell_type": "code",
   "execution_count": null,
   "id": "ee5e49c3-bd9e-4fd5-85fa-222ce8ad6aa0",
   "metadata": {
    "colab": {
     "base_uri": "https://localhost:8080/"
    },
    "id": "ee5e49c3-bd9e-4fd5-85fa-222ce8ad6aa0",
    "outputId": "f8441a5d-4f19-47e9-deda-5fc39cd7b41b"
   },
   "outputs": [],
   "source": [
    "dataset"
   ]
  },
  {
   "cell_type": "code",
   "execution_count": null,
   "metadata": {},
   "outputs": [],
   "source": [
    "mlflow.start_run()"
   ]
  },
  {
   "cell_type": "markdown",
   "id": "469eac3c",
   "metadata": {},
   "source": [
    "#### Preprocessing the input sequence"
   ]
  },
  {
   "cell_type": "code",
   "execution_count": null,
   "id": "b54119bb-34de-4cdd-a5f0-4c6125e3ee31",
   "metadata": {
    "id": "b54119bb-34de-4cdd-a5f0-4c6125e3ee31"
   },
   "outputs": [],
   "source": [
    "premise_template = Template(\"Question: $question. Answer: $answer\")\n",
    "hypothesis_template = Template(\"In this example, the answer evades or ignores the question.\")\n",
    "\n",
    "mlflow.log_params(\n",
    "    {\n",
    "        \"premise_template\": premise_template.safe_substitute(),\n",
    "        \"hypothesis_template\": hypothesis_template.safe_substitute()\n",
    "    }\n",
    ")\n",
    "\n",
    "def preprocess_function(row):\n",
    "    #premise = f\"Question: {row['premise']}\"\n",
    "    #hypothesis = f\"This answer evades the question: {row['hypothesis']}\"\n",
    "    premise = premise_template.safe_substitute(question = row['question'], answer = row['answer'])\n",
    "    hypothesis = hypothesis_template.safe_substitute()\n",
    "    encoded = tokenizer(premise, hypothesis) #, truncation=True)\n",
    "    encoded[\"labels\"] = row[\"label\"]\n",
    "    encoded[\"input_sentence\"] = tokenizer.decode(encoded.input_ids)\n",
    "    return encoded"
   ]
  },
  {
   "cell_type": "code",
   "execution_count": null,
   "id": "35190006-dd3f-4968-abea-7136ccd70a3f",
   "metadata": {
    "colab": {
     "base_uri": "https://localhost:8080/"
    },
    "id": "35190006-dd3f-4968-abea-7136ccd70a3f",
    "outputId": "0fe15684-4741-4571-d695-a9ba92c18706"
   },
   "outputs": [],
   "source": [
    "example = preprocess_function(dataset[\"train\"][0])\n",
    "print(example)"
   ]
  },
  {
   "cell_type": "code",
   "execution_count": null,
   "id": "e8d74ef2-b874-4922-82be-4d533d88aeb8",
   "metadata": {
    "colab": {
     "base_uri": "https://localhost:8080/",
     "height": 150,
     "referenced_widgets": [
      "2c6eee62bb5f43f0ab5445e2545350bb",
      "4282a71f1ff44ae1b7a9bcf19a9249fa",
      "d88138bb5ed649489170652dce08a395",
      "b4972818e14d4651afc2bf843640af50",
      "107eada8d9664199896149bdeb2b14ec",
      "7756ca6b6d214e2ab5d06d430ca82db2",
      "bb1c2f534f44470d83a27dc68874d863",
      "6b4e031b53af40af838ee40390029393",
      "68b5225be3234e849f1dc36427dbe4f4",
      "062bda6c84cf4c9fad7e2050a25fc33c",
      "973853ef47ba411abbce6dc0ddb709bd",
      "5e587aa13909470db10d5790bfa009ae",
      "3c2db12d171b4ad9a8f5ae66d89a836c",
      "ab8199c72a0b4571b4b8673fbe97bacc",
      "3bfb081bc6954cdf81980ef06b8466a4",
      "84e1893eef574970970a9b8e1f202542",
      "bea2cafe1a6d4b349ddbd7c065a81eae",
      "2d9d982a49b149e4805cc4889e5d7792",
      "662233903ad84ec2b2dca184394ed647",
      "366ee0a00c9c48fcb050ac2cdc4019cb",
      "90b3c6d23da44a719416a766e7da363f",
      "cfe1c4d17e4947e8a7e01412dc57b59f",
      "c806d364eac54dc4bc7a6be5943df324",
      "5b804c8d76cc461290b0486fe25ba877",
      "ed45b17493e449258168e1514e56c8ad",
      "2f2670e00de44a6a92c49dfffdf37c1c",
      "6a27cf046c374913a7ff3829cd8a646e",
      "4fc7f539b9f549ab8761e8969d322146",
      "19cd89538d9e444a89b15f00893c6df3",
      "fc1a8332a0024bd7b49951c49f6c207b",
      "aad9d03b7d7b45d19d32dd9d368e331c",
      "4b7f256364f74fc69f570720ac3a8321",
      "f675b12842cb4b1a81bbaf07185424e9"
     ]
    },
    "id": "e8d74ef2-b874-4922-82be-4d533d88aeb8",
    "outputId": "231aa80a-612b-45e8-ee73-46176863a824"
   },
   "outputs": [],
   "source": [
    "encoded_dataset = dataset.map(preprocess_function,\n",
    "remove_columns=[\"question\", \"answer\", \"label\"])"
   ]
  },
  {
   "cell_type": "code",
   "execution_count": null,
   "id": "7a657602",
   "metadata": {},
   "outputs": [],
   "source": [
    "encoded_dataset[\"train\"].features[\"labels\"]"
   ]
  },
  {
   "cell_type": "code",
   "execution_count": null,
   "id": "023f5b5d-6cb5-4a12-987a-6ff1dcdfae5c",
   "metadata": {
    "colab": {
     "base_uri": "https://localhost:8080/"
    },
    "id": "023f5b5d-6cb5-4a12-987a-6ff1dcdfae5c",
    "outputId": "ad5ec466-1d15-4d84-dbf2-30069d52a1ad"
   },
   "outputs": [],
   "source": [
    "encoded_dataset"
   ]
  },
  {
   "cell_type": "code",
   "execution_count": null,
   "id": "2562d4fd-68c3-441f-9757-b8b2fda7ce31",
   "metadata": {
    "id": "2562d4fd-68c3-441f-9757-b8b2fda7ce31"
   },
   "outputs": [],
   "source": [
    "# a helper function to show the prediction results\n",
    "\n",
    "def get_results(outputs, model, return_all_scores=True):\n",
    "    scores = np.exp(outputs) / np.exp(outputs).sum(-1, keepdims=True)\n",
    "    if return_all_scores:\n",
    "        return [\n",
    "            [{\"label\": model.config.id2label[i], \"score\": score.item()} for i, score in enumerate(item)]\n",
    "                for item in scores\n",
    "            ]\n",
    "    else:\n",
    "        return [\n",
    "            {\"label\": model.config.id2label[item.argmax()], \"score\": item.max().item()} for item in scores\n",
    "        ]"
   ]
  },
  {
   "cell_type": "code",
   "execution_count": null,
   "id": "d5a9f1d3-5c72-4f31-a5a8-f596b15620f0",
   "metadata": {
    "colab": {
     "base_uri": "https://localhost:8080/"
    },
    "id": "d5a9f1d3-5c72-4f31-a5a8-f596b15620f0",
    "outputId": "3019b385-a641-4334-c45b-bfc0a4360a3b"
   },
   "outputs": [],
   "source": [
    "dataset_batch_size = 4 # 16\n",
    "\n",
    "tf_train_dataset = model.prepare_tf_dataset(\n",
    "    encoded_dataset[\"train\"],\n",
    "    shuffle=True,\n",
    "    batch_size=dataset_batch_size,\n",
    "    tokenizer=tokenizer\n",
    ")\n",
    "\n",
    "tf_validation_dataset = model.prepare_tf_dataset(\n",
    "    encoded_dataset[\"val\"],\n",
    "    shuffle=False,\n",
    "    batch_size=dataset_batch_size,\n",
    "    tokenizer=tokenizer,\n",
    ")\n",
    "\n",
    "tf_test_dataset = model.prepare_tf_dataset(\n",
    "    encoded_dataset[\"test\"],\n",
    "    shuffle=False,\n",
    "    batch_size=dataset_batch_size,\n",
    "    tokenizer=tokenizer,\n",
    ")\n"
   ]
  },
  {
   "cell_type": "code",
   "execution_count": null,
   "metadata": {},
   "outputs": [],
   "source": []
  },
  {
   "cell_type": "code",
   "execution_count": null,
   "id": "d321cbdd-8b8d-4a8c-b203-8c5ece9a7785",
   "metadata": {
    "colab": {
     "base_uri": "https://localhost:8080/"
    },
    "id": "d321cbdd-8b8d-4a8c-b203-8c5ece9a7785",
    "outputId": "c7e409ae-bcc9-4947-b1be-4f27f0c482c1"
   },
   "outputs": [],
   "source": [
    "# now the dataset is ready to be fed into the model to fit\n",
    "tf_train_dataset"
   ]
  },
  {
   "cell_type": "code",
   "execution_count": null,
   "id": "1065fbab",
   "metadata": {},
   "outputs": [],
   "source": [
    "tf_train_dataset"
   ]
  },
  {
   "cell_type": "code",
   "execution_count": null,
   "id": "34f50ace-ae3b-4470-9e91-28efc4122423",
   "metadata": {
    "id": "34f50ace-ae3b-4470-9e91-28efc4122423"
   },
   "outputs": [],
   "source": [
    "# del encoded_dataset"
   ]
  },
  {
   "cell_type": "code",
   "execution_count": null,
   "id": "38309816-db14-40e2-8889-5f71b17c8bd9",
   "metadata": {
    "id": "38309816-db14-40e2-8889-5f71b17c8bd9"
   },
   "outputs": [],
   "source": [
    "from transformers import create_optimizer\n",
    "\n",
    "batch_size = 4\n",
    "num_epochs = 5\n",
    "number_of_training_examples = tf_train_dataset.cardinality().numpy()\n",
    "batches_per_epoch = number_of_training_examples // batch_size\n",
    "total_train_steps = int(batches_per_epoch * num_epochs)\n",
    "\n",
    "optimizer, schedule = create_optimizer(\n",
    "    init_lr=2e-5, num_warmup_steps=0, num_train_steps=total_train_steps\n",
    ")"
   ]
  },
  {
   "cell_type": "code",
   "execution_count": null,
   "id": "0940d79e-1099-4536-9d2e-01cd5c46b59a",
   "metadata": {
    "id": "0940d79e-1099-4536-9d2e-01cd5c46b59a"
   },
   "outputs": [],
   "source": [
    "model.compile(optimizer=optimizer) # run_eagerly=True, "
   ]
  },
  {
   "cell_type": "code",
   "execution_count": null,
   "id": "553b543a-d5c9-4f39-8ed3-bba2fc5a630c",
   "metadata": {
    "colab": {
     "base_uri": "https://localhost:8080/"
    },
    "id": "553b543a-d5c9-4f39-8ed3-bba2fc5a630c",
    "outputId": "3c668416-ed7f-44a1-e6ca-4b02dee441e5"
   },
   "outputs": [],
   "source": [
    "# evaluating loss before finetuning the model on our \"target data\"\n",
    "before_finetuning_history = model.evaluate(tf_test_dataset)"
   ]
  },
  {
   "cell_type": "code",
   "execution_count": null,
   "id": "22945b34-61a4-4396-9e1f-93125fa3f16c",
   "metadata": {
    "colab": {
     "base_uri": "https://localhost:8080/"
    },
    "id": "22945b34-61a4-4396-9e1f-93125fa3f16c",
    "outputId": "35909442-eb6b-4216-9576-910d9552d8ce"
   },
   "outputs": [],
   "source": [
    "# we are looking at Mean loss\n",
    "print(model.metrics)\n",
    "print(before_finetuning_history)"
   ]
  },
  {
   "cell_type": "code",
   "execution_count": null,
   "metadata": {},
   "outputs": [],
   "source": [
    "mlflow.log_metric(\"loss before finetuning\", before_finetuning_history)"
   ]
  },
  {
   "cell_type": "code",
   "execution_count": null,
   "id": "7ab9139b-2e13-4509-8906-463b906af925",
   "metadata": {
    "colab": {
     "base_uri": "https://localhost:8080/"
    },
    "id": "7ab9139b-2e13-4509-8906-463b906af925",
    "outputId": "9f2b844f-28b5-47cd-ef46-497c89d01742"
   },
   "outputs": [],
   "source": [
    "model.summary()"
   ]
  },
  {
   "cell_type": "code",
   "execution_count": null,
   "id": "75298b1f",
   "metadata": {},
   "outputs": [],
   "source": [
    "#import os\n",
    "#os.environ[\"TF_GPU_ALLOCATOR\"] = \"cuda_malloc_async\""
   ]
  },
  {
   "cell_type": "code",
   "execution_count": null,
   "metadata": {},
   "outputs": [],
   "source": [
    "from evaluate import load\n"
   ]
  },
  {
   "cell_type": "code",
   "execution_count": null,
   "metadata": {},
   "outputs": [],
   "source": [
    "from transformers.keras_callbacks import PushToHubCallback\n",
    "from tensorflow.keras.callbacks import TensorBoard\n",
    "from transformers.keras_callbacks import KerasMetricCallback\n",
    "\n",
    "# remember to install git-lfs\n",
    "# !apt install git-lfs\n",
    "\n",
    "def compute_metrics(eval_predictions):\n",
    "    predictions, labels = eval_predictions\n",
    "    predictions = np.argmax(predictions, axis=1)\n",
    "    return metric.compute(predictions=predictions, references=labels)\n",
    "\n",
    "#metric = model.metrics[0]\n",
    "\n",
    "metric = load(\"glue\", \"mnli\")\n",
    "metric_callback = KerasMetricCallback(\n",
    "    metric_fn=compute_metrics, eval_dataset=tf_validation_dataset\n",
    ")\n",
    "\n",
    "push_to_hub_model_id = \"question-dodging-finetuned-distilbert-base-uncased-mnli\"\n",
    "tensorboard_callback = TensorBoard(log_dir=\"./text_classification_model_save/logs\")\n",
    "\n",
    "push_to_hub_callback = PushToHubCallback(\n",
    "    output_dir=\"./text_classification_model_save\",\n",
    "    tokenizer=tokenizer,\n",
    "    hub_model_id=push_to_hub_model_id,\n",
    ")\n",
    "\n",
    "callbacks = [metric_callback, tensorboard_callback, push_to_hub_callback]\n"
   ]
  },
  {
   "cell_type": "code",
   "execution_count": null,
   "metadata": {},
   "outputs": [],
   "source": [
    "# clear_gpu_mem()"
   ]
  },
  {
   "cell_type": "code",
   "execution_count": null,
   "id": "a0462c12-e832-42ee-8753-9bccc5e9b53d",
   "metadata": {
    "colab": {
     "base_uri": "https://localhost:8080/"
    },
    "id": "a0462c12-e832-42ee-8753-9bccc5e9b53d",
    "outputId": "08cbc2f4-72cb-45e8-a0c5-ca839177e8af"
   },
   "outputs": [],
   "source": [
    "history = model.fit(\n",
    "        tf_train_dataset,\n",
    "        validation_data=tf_validation_dataset,\n",
    "        epochs=num_epochs,\n",
    "        batch_size=2,\n",
    "        verbose=1,\n",
    "        callbacks=callbacks\n",
    "    )\n"
   ]
  },
  {
   "cell_type": "code",
   "execution_count": null,
   "id": "e67c14a6-de23-4a0c-b2e6-832f34498d85",
   "metadata": {
    "colab": {
     "base_uri": "https://localhost:8080/"
    },
    "id": "e67c14a6-de23-4a0c-b2e6-832f34498d85",
    "outputId": "49a3c893-9786-40c2-b30f-800f4b203a91"
   },
   "outputs": [],
   "source": [
    "after_finetuning_history = model.evaluate(tf_test_dataset)\n",
    "after_finetuning_history"
   ]
  },
  {
   "cell_type": "code",
   "execution_count": null,
   "metadata": {},
   "outputs": [],
   "source": [
    "mlflow.end_run()"
   ]
  },
  {
   "cell_type": "code",
   "execution_count": null,
   "metadata": {},
   "outputs": [],
   "source": []
  }
 ],
 "metadata": {
  "accelerator": "GPU",
  "colab": {
   "gpuType": "T4",
   "provenance": []
  },
  "kernelspec": {
   "display_name": "Python 3 (ipykernel)",
   "language": "python",
   "name": "python3"
  },
  "language_info": {
   "codemirror_mode": {
    "name": "ipython",
    "version": 3
   },
   "file_extension": ".py",
   "mimetype": "text/x-python",
   "name": "python",
   "nbconvert_exporter": "python",
   "pygments_lexer": "ipython3",
   "version": "3.10.12"
  },
  "widgets": {
   "application/vnd.jupyter.widget-state+json": {
    "062bda6c84cf4c9fad7e2050a25fc33c": {
     "model_module": "@jupyter-widgets/base",
     "model_module_version": "1.2.0",
     "model_name": "LayoutModel",
     "state": {
      "_model_module": "@jupyter-widgets/base",
      "_model_module_version": "1.2.0",
      "_model_name": "LayoutModel",
      "_view_count": null,
      "_view_module": "@jupyter-widgets/base",
      "_view_module_version": "1.2.0",
      "_view_name": "LayoutView",
      "align_content": null,
      "align_items": null,
      "align_self": null,
      "border": null,
      "bottom": null,
      "display": null,
      "flex": null,
      "flex_flow": null,
      "grid_area": null,
      "grid_auto_columns": null,
      "grid_auto_flow": null,
      "grid_auto_rows": null,
      "grid_column": null,
      "grid_gap": null,
      "grid_row": null,
      "grid_template_areas": null,
      "grid_template_columns": null,
      "grid_template_rows": null,
      "height": null,
      "justify_content": null,
      "justify_items": null,
      "left": null,
      "margin": null,
      "max_height": null,
      "max_width": null,
      "min_height": null,
      "min_width": null,
      "object_fit": null,
      "object_position": null,
      "order": null,
      "overflow": null,
      "overflow_x": null,
      "overflow_y": null,
      "padding": null,
      "right": null,
      "top": null,
      "visibility": null,
      "width": null
     }
    },
    "107eada8d9664199896149bdeb2b14ec": {
     "model_module": "@jupyter-widgets/base",
     "model_module_version": "1.2.0",
     "model_name": "LayoutModel",
     "state": {
      "_model_module": "@jupyter-widgets/base",
      "_model_module_version": "1.2.0",
      "_model_name": "LayoutModel",
      "_view_count": null,
      "_view_module": "@jupyter-widgets/base",
      "_view_module_version": "1.2.0",
      "_view_name": "LayoutView",
      "align_content": null,
      "align_items": null,
      "align_self": null,
      "border": null,
      "bottom": null,
      "display": null,
      "flex": null,
      "flex_flow": null,
      "grid_area": null,
      "grid_auto_columns": null,
      "grid_auto_flow": null,
      "grid_auto_rows": null,
      "grid_column": null,
      "grid_gap": null,
      "grid_row": null,
      "grid_template_areas": null,
      "grid_template_columns": null,
      "grid_template_rows": null,
      "height": null,
      "justify_content": null,
      "justify_items": null,
      "left": null,
      "margin": null,
      "max_height": null,
      "max_width": null,
      "min_height": null,
      "min_width": null,
      "object_fit": null,
      "object_position": null,
      "order": null,
      "overflow": null,
      "overflow_x": null,
      "overflow_y": null,
      "padding": null,
      "right": null,
      "top": null,
      "visibility": null,
      "width": null
     }
    },
    "19cd89538d9e444a89b15f00893c6df3": {
     "model_module": "@jupyter-widgets/controls",
     "model_module_version": "1.5.0",
     "model_name": "DescriptionStyleModel",
     "state": {
      "_model_module": "@jupyter-widgets/controls",
      "_model_module_version": "1.5.0",
      "_model_name": "DescriptionStyleModel",
      "_view_count": null,
      "_view_module": "@jupyter-widgets/base",
      "_view_module_version": "1.2.0",
      "_view_name": "StyleView",
      "description_width": ""
     }
    },
    "2c6eee62bb5f43f0ab5445e2545350bb": {
     "model_module": "@jupyter-widgets/controls",
     "model_module_version": "1.5.0",
     "model_name": "HBoxModel",
     "state": {
      "_dom_classes": [],
      "_model_module": "@jupyter-widgets/controls",
      "_model_module_version": "1.5.0",
      "_model_name": "HBoxModel",
      "_view_count": null,
      "_view_module": "@jupyter-widgets/controls",
      "_view_module_version": "1.5.0",
      "_view_name": "HBoxView",
      "box_style": "",
      "children": [
       "IPY_MODEL_4282a71f1ff44ae1b7a9bcf19a9249fa",
       "IPY_MODEL_d88138bb5ed649489170652dce08a395",
       "IPY_MODEL_b4972818e14d4651afc2bf843640af50"
      ],
      "layout": "IPY_MODEL_107eada8d9664199896149bdeb2b14ec"
     }
    },
    "2d9d982a49b149e4805cc4889e5d7792": {
     "model_module": "@jupyter-widgets/controls",
     "model_module_version": "1.5.0",
     "model_name": "DescriptionStyleModel",
     "state": {
      "_model_module": "@jupyter-widgets/controls",
      "_model_module_version": "1.5.0",
      "_model_name": "DescriptionStyleModel",
      "_view_count": null,
      "_view_module": "@jupyter-widgets/base",
      "_view_module_version": "1.2.0",
      "_view_name": "StyleView",
      "description_width": ""
     }
    },
    "2f2670e00de44a6a92c49dfffdf37c1c": {
     "model_module": "@jupyter-widgets/controls",
     "model_module_version": "1.5.0",
     "model_name": "HTMLModel",
     "state": {
      "_dom_classes": [],
      "_model_module": "@jupyter-widgets/controls",
      "_model_module_version": "1.5.0",
      "_model_name": "HTMLModel",
      "_view_count": null,
      "_view_module": "@jupyter-widgets/controls",
      "_view_module_version": "1.5.0",
      "_view_name": "HTMLView",
      "description": "",
      "description_tooltip": null,
      "layout": "IPY_MODEL_4b7f256364f74fc69f570720ac3a8321",
      "placeholder": "​",
      "style": "IPY_MODEL_f675b12842cb4b1a81bbaf07185424e9",
      "value": " 83/83 [00:00&lt;00:00, 380.54 examples/s]"
     }
    },
    "366ee0a00c9c48fcb050ac2cdc4019cb": {
     "model_module": "@jupyter-widgets/controls",
     "model_module_version": "1.5.0",
     "model_name": "ProgressStyleModel",
     "state": {
      "_model_module": "@jupyter-widgets/controls",
      "_model_module_version": "1.5.0",
      "_model_name": "ProgressStyleModel",
      "_view_count": null,
      "_view_module": "@jupyter-widgets/base",
      "_view_module_version": "1.2.0",
      "_view_name": "StyleView",
      "bar_color": null,
      "description_width": ""
     }
    },
    "3bfb081bc6954cdf81980ef06b8466a4": {
     "model_module": "@jupyter-widgets/controls",
     "model_module_version": "1.5.0",
     "model_name": "HTMLModel",
     "state": {
      "_dom_classes": [],
      "_model_module": "@jupyter-widgets/controls",
      "_model_module_version": "1.5.0",
      "_model_name": "HTMLModel",
      "_view_count": null,
      "_view_module": "@jupyter-widgets/controls",
      "_view_module_version": "1.5.0",
      "_view_name": "HTMLView",
      "description": "",
      "description_tooltip": null,
      "layout": "IPY_MODEL_90b3c6d23da44a719416a766e7da363f",
      "placeholder": "​",
      "style": "IPY_MODEL_cfe1c4d17e4947e8a7e01412dc57b59f",
      "value": " 83/83 [00:00&lt;00:00, 382.09 examples/s]"
     }
    },
    "3c2db12d171b4ad9a8f5ae66d89a836c": {
     "model_module": "@jupyter-widgets/controls",
     "model_module_version": "1.5.0",
     "model_name": "HTMLModel",
     "state": {
      "_dom_classes": [],
      "_model_module": "@jupyter-widgets/controls",
      "_model_module_version": "1.5.0",
      "_model_name": "HTMLModel",
      "_view_count": null,
      "_view_module": "@jupyter-widgets/controls",
      "_view_module_version": "1.5.0",
      "_view_name": "HTMLView",
      "description": "",
      "description_tooltip": null,
      "layout": "IPY_MODEL_bea2cafe1a6d4b349ddbd7c065a81eae",
      "placeholder": "​",
      "style": "IPY_MODEL_2d9d982a49b149e4805cc4889e5d7792",
      "value": "Map: 100%"
     }
    },
    "4282a71f1ff44ae1b7a9bcf19a9249fa": {
     "model_module": "@jupyter-widgets/controls",
     "model_module_version": "1.5.0",
     "model_name": "HTMLModel",
     "state": {
      "_dom_classes": [],
      "_model_module": "@jupyter-widgets/controls",
      "_model_module_version": "1.5.0",
      "_model_name": "HTMLModel",
      "_view_count": null,
      "_view_module": "@jupyter-widgets/controls",
      "_view_module_version": "1.5.0",
      "_view_name": "HTMLView",
      "description": "",
      "description_tooltip": null,
      "layout": "IPY_MODEL_7756ca6b6d214e2ab5d06d430ca82db2",
      "placeholder": "​",
      "style": "IPY_MODEL_bb1c2f534f44470d83a27dc68874d863",
      "value": "Map: 100%"
     }
    },
    "4b7f256364f74fc69f570720ac3a8321": {
     "model_module": "@jupyter-widgets/base",
     "model_module_version": "1.2.0",
     "model_name": "LayoutModel",
     "state": {
      "_model_module": "@jupyter-widgets/base",
      "_model_module_version": "1.2.0",
      "_model_name": "LayoutModel",
      "_view_count": null,
      "_view_module": "@jupyter-widgets/base",
      "_view_module_version": "1.2.0",
      "_view_name": "LayoutView",
      "align_content": null,
      "align_items": null,
      "align_self": null,
      "border": null,
      "bottom": null,
      "display": null,
      "flex": null,
      "flex_flow": null,
      "grid_area": null,
      "grid_auto_columns": null,
      "grid_auto_flow": null,
      "grid_auto_rows": null,
      "grid_column": null,
      "grid_gap": null,
      "grid_row": null,
      "grid_template_areas": null,
      "grid_template_columns": null,
      "grid_template_rows": null,
      "height": null,
      "justify_content": null,
      "justify_items": null,
      "left": null,
      "margin": null,
      "max_height": null,
      "max_width": null,
      "min_height": null,
      "min_width": null,
      "object_fit": null,
      "object_position": null,
      "order": null,
      "overflow": null,
      "overflow_x": null,
      "overflow_y": null,
      "padding": null,
      "right": null,
      "top": null,
      "visibility": null,
      "width": null
     }
    },
    "4fc7f539b9f549ab8761e8969d322146": {
     "model_module": "@jupyter-widgets/base",
     "model_module_version": "1.2.0",
     "model_name": "LayoutModel",
     "state": {
      "_model_module": "@jupyter-widgets/base",
      "_model_module_version": "1.2.0",
      "_model_name": "LayoutModel",
      "_view_count": null,
      "_view_module": "@jupyter-widgets/base",
      "_view_module_version": "1.2.0",
      "_view_name": "LayoutView",
      "align_content": null,
      "align_items": null,
      "align_self": null,
      "border": null,
      "bottom": null,
      "display": null,
      "flex": null,
      "flex_flow": null,
      "grid_area": null,
      "grid_auto_columns": null,
      "grid_auto_flow": null,
      "grid_auto_rows": null,
      "grid_column": null,
      "grid_gap": null,
      "grid_row": null,
      "grid_template_areas": null,
      "grid_template_columns": null,
      "grid_template_rows": null,
      "height": null,
      "justify_content": null,
      "justify_items": null,
      "left": null,
      "margin": null,
      "max_height": null,
      "max_width": null,
      "min_height": null,
      "min_width": null,
      "object_fit": null,
      "object_position": null,
      "order": null,
      "overflow": null,
      "overflow_x": null,
      "overflow_y": null,
      "padding": null,
      "right": null,
      "top": null,
      "visibility": null,
      "width": null
     }
    },
    "5b804c8d76cc461290b0486fe25ba877": {
     "model_module": "@jupyter-widgets/controls",
     "model_module_version": "1.5.0",
     "model_name": "HTMLModel",
     "state": {
      "_dom_classes": [],
      "_model_module": "@jupyter-widgets/controls",
      "_model_module_version": "1.5.0",
      "_model_name": "HTMLModel",
      "_view_count": null,
      "_view_module": "@jupyter-widgets/controls",
      "_view_module_version": "1.5.0",
      "_view_name": "HTMLView",
      "description": "",
      "description_tooltip": null,
      "layout": "IPY_MODEL_4fc7f539b9f549ab8761e8969d322146",
      "placeholder": "​",
      "style": "IPY_MODEL_19cd89538d9e444a89b15f00893c6df3",
      "value": "Map: 100%"
     }
    },
    "5e587aa13909470db10d5790bfa009ae": {
     "model_module": "@jupyter-widgets/controls",
     "model_module_version": "1.5.0",
     "model_name": "HBoxModel",
     "state": {
      "_dom_classes": [],
      "_model_module": "@jupyter-widgets/controls",
      "_model_module_version": "1.5.0",
      "_model_name": "HBoxModel",
      "_view_count": null,
      "_view_module": "@jupyter-widgets/controls",
      "_view_module_version": "1.5.0",
      "_view_name": "HBoxView",
      "box_style": "",
      "children": [
       "IPY_MODEL_3c2db12d171b4ad9a8f5ae66d89a836c",
       "IPY_MODEL_ab8199c72a0b4571b4b8673fbe97bacc",
       "IPY_MODEL_3bfb081bc6954cdf81980ef06b8466a4"
      ],
      "layout": "IPY_MODEL_84e1893eef574970970a9b8e1f202542"
     }
    },
    "662233903ad84ec2b2dca184394ed647": {
     "model_module": "@jupyter-widgets/base",
     "model_module_version": "1.2.0",
     "model_name": "LayoutModel",
     "state": {
      "_model_module": "@jupyter-widgets/base",
      "_model_module_version": "1.2.0",
      "_model_name": "LayoutModel",
      "_view_count": null,
      "_view_module": "@jupyter-widgets/base",
      "_view_module_version": "1.2.0",
      "_view_name": "LayoutView",
      "align_content": null,
      "align_items": null,
      "align_self": null,
      "border": null,
      "bottom": null,
      "display": null,
      "flex": null,
      "flex_flow": null,
      "grid_area": null,
      "grid_auto_columns": null,
      "grid_auto_flow": null,
      "grid_auto_rows": null,
      "grid_column": null,
      "grid_gap": null,
      "grid_row": null,
      "grid_template_areas": null,
      "grid_template_columns": null,
      "grid_template_rows": null,
      "height": null,
      "justify_content": null,
      "justify_items": null,
      "left": null,
      "margin": null,
      "max_height": null,
      "max_width": null,
      "min_height": null,
      "min_width": null,
      "object_fit": null,
      "object_position": null,
      "order": null,
      "overflow": null,
      "overflow_x": null,
      "overflow_y": null,
      "padding": null,
      "right": null,
      "top": null,
      "visibility": null,
      "width": null
     }
    },
    "68b5225be3234e849f1dc36427dbe4f4": {
     "model_module": "@jupyter-widgets/controls",
     "model_module_version": "1.5.0",
     "model_name": "ProgressStyleModel",
     "state": {
      "_model_module": "@jupyter-widgets/controls",
      "_model_module_version": "1.5.0",
      "_model_name": "ProgressStyleModel",
      "_view_count": null,
      "_view_module": "@jupyter-widgets/base",
      "_view_module_version": "1.2.0",
      "_view_name": "StyleView",
      "bar_color": null,
      "description_width": ""
     }
    },
    "6a27cf046c374913a7ff3829cd8a646e": {
     "model_module": "@jupyter-widgets/base",
     "model_module_version": "1.2.0",
     "model_name": "LayoutModel",
     "state": {
      "_model_module": "@jupyter-widgets/base",
      "_model_module_version": "1.2.0",
      "_model_name": "LayoutModel",
      "_view_count": null,
      "_view_module": "@jupyter-widgets/base",
      "_view_module_version": "1.2.0",
      "_view_name": "LayoutView",
      "align_content": null,
      "align_items": null,
      "align_self": null,
      "border": null,
      "bottom": null,
      "display": null,
      "flex": null,
      "flex_flow": null,
      "grid_area": null,
      "grid_auto_columns": null,
      "grid_auto_flow": null,
      "grid_auto_rows": null,
      "grid_column": null,
      "grid_gap": null,
      "grid_row": null,
      "grid_template_areas": null,
      "grid_template_columns": null,
      "grid_template_rows": null,
      "height": null,
      "justify_content": null,
      "justify_items": null,
      "left": null,
      "margin": null,
      "max_height": null,
      "max_width": null,
      "min_height": null,
      "min_width": null,
      "object_fit": null,
      "object_position": null,
      "order": null,
      "overflow": null,
      "overflow_x": null,
      "overflow_y": null,
      "padding": null,
      "right": null,
      "top": null,
      "visibility": null,
      "width": null
     }
    },
    "6b4e031b53af40af838ee40390029393": {
     "model_module": "@jupyter-widgets/base",
     "model_module_version": "1.2.0",
     "model_name": "LayoutModel",
     "state": {
      "_model_module": "@jupyter-widgets/base",
      "_model_module_version": "1.2.0",
      "_model_name": "LayoutModel",
      "_view_count": null,
      "_view_module": "@jupyter-widgets/base",
      "_view_module_version": "1.2.0",
      "_view_name": "LayoutView",
      "align_content": null,
      "align_items": null,
      "align_self": null,
      "border": null,
      "bottom": null,
      "display": null,
      "flex": null,
      "flex_flow": null,
      "grid_area": null,
      "grid_auto_columns": null,
      "grid_auto_flow": null,
      "grid_auto_rows": null,
      "grid_column": null,
      "grid_gap": null,
      "grid_row": null,
      "grid_template_areas": null,
      "grid_template_columns": null,
      "grid_template_rows": null,
      "height": null,
      "justify_content": null,
      "justify_items": null,
      "left": null,
      "margin": null,
      "max_height": null,
      "max_width": null,
      "min_height": null,
      "min_width": null,
      "object_fit": null,
      "object_position": null,
      "order": null,
      "overflow": null,
      "overflow_x": null,
      "overflow_y": null,
      "padding": null,
      "right": null,
      "top": null,
      "visibility": null,
      "width": null
     }
    },
    "7756ca6b6d214e2ab5d06d430ca82db2": {
     "model_module": "@jupyter-widgets/base",
     "model_module_version": "1.2.0",
     "model_name": "LayoutModel",
     "state": {
      "_model_module": "@jupyter-widgets/base",
      "_model_module_version": "1.2.0",
      "_model_name": "LayoutModel",
      "_view_count": null,
      "_view_module": "@jupyter-widgets/base",
      "_view_module_version": "1.2.0",
      "_view_name": "LayoutView",
      "align_content": null,
      "align_items": null,
      "align_self": null,
      "border": null,
      "bottom": null,
      "display": null,
      "flex": null,
      "flex_flow": null,
      "grid_area": null,
      "grid_auto_columns": null,
      "grid_auto_flow": null,
      "grid_auto_rows": null,
      "grid_column": null,
      "grid_gap": null,
      "grid_row": null,
      "grid_template_areas": null,
      "grid_template_columns": null,
      "grid_template_rows": null,
      "height": null,
      "justify_content": null,
      "justify_items": null,
      "left": null,
      "margin": null,
      "max_height": null,
      "max_width": null,
      "min_height": null,
      "min_width": null,
      "object_fit": null,
      "object_position": null,
      "order": null,
      "overflow": null,
      "overflow_x": null,
      "overflow_y": null,
      "padding": null,
      "right": null,
      "top": null,
      "visibility": null,
      "width": null
     }
    },
    "84e1893eef574970970a9b8e1f202542": {
     "model_module": "@jupyter-widgets/base",
     "model_module_version": "1.2.0",
     "model_name": "LayoutModel",
     "state": {
      "_model_module": "@jupyter-widgets/base",
      "_model_module_version": "1.2.0",
      "_model_name": "LayoutModel",
      "_view_count": null,
      "_view_module": "@jupyter-widgets/base",
      "_view_module_version": "1.2.0",
      "_view_name": "LayoutView",
      "align_content": null,
      "align_items": null,
      "align_self": null,
      "border": null,
      "bottom": null,
      "display": null,
      "flex": null,
      "flex_flow": null,
      "grid_area": null,
      "grid_auto_columns": null,
      "grid_auto_flow": null,
      "grid_auto_rows": null,
      "grid_column": null,
      "grid_gap": null,
      "grid_row": null,
      "grid_template_areas": null,
      "grid_template_columns": null,
      "grid_template_rows": null,
      "height": null,
      "justify_content": null,
      "justify_items": null,
      "left": null,
      "margin": null,
      "max_height": null,
      "max_width": null,
      "min_height": null,
      "min_width": null,
      "object_fit": null,
      "object_position": null,
      "order": null,
      "overflow": null,
      "overflow_x": null,
      "overflow_y": null,
      "padding": null,
      "right": null,
      "top": null,
      "visibility": null,
      "width": null
     }
    },
    "90b3c6d23da44a719416a766e7da363f": {
     "model_module": "@jupyter-widgets/base",
     "model_module_version": "1.2.0",
     "model_name": "LayoutModel",
     "state": {
      "_model_module": "@jupyter-widgets/base",
      "_model_module_version": "1.2.0",
      "_model_name": "LayoutModel",
      "_view_count": null,
      "_view_module": "@jupyter-widgets/base",
      "_view_module_version": "1.2.0",
      "_view_name": "LayoutView",
      "align_content": null,
      "align_items": null,
      "align_self": null,
      "border": null,
      "bottom": null,
      "display": null,
      "flex": null,
      "flex_flow": null,
      "grid_area": null,
      "grid_auto_columns": null,
      "grid_auto_flow": null,
      "grid_auto_rows": null,
      "grid_column": null,
      "grid_gap": null,
      "grid_row": null,
      "grid_template_areas": null,
      "grid_template_columns": null,
      "grid_template_rows": null,
      "height": null,
      "justify_content": null,
      "justify_items": null,
      "left": null,
      "margin": null,
      "max_height": null,
      "max_width": null,
      "min_height": null,
      "min_width": null,
      "object_fit": null,
      "object_position": null,
      "order": null,
      "overflow": null,
      "overflow_x": null,
      "overflow_y": null,
      "padding": null,
      "right": null,
      "top": null,
      "visibility": null,
      "width": null
     }
    },
    "973853ef47ba411abbce6dc0ddb709bd": {
     "model_module": "@jupyter-widgets/controls",
     "model_module_version": "1.5.0",
     "model_name": "DescriptionStyleModel",
     "state": {
      "_model_module": "@jupyter-widgets/controls",
      "_model_module_version": "1.5.0",
      "_model_name": "DescriptionStyleModel",
      "_view_count": null,
      "_view_module": "@jupyter-widgets/base",
      "_view_module_version": "1.2.0",
      "_view_name": "StyleView",
      "description_width": ""
     }
    },
    "aad9d03b7d7b45d19d32dd9d368e331c": {
     "model_module": "@jupyter-widgets/controls",
     "model_module_version": "1.5.0",
     "model_name": "ProgressStyleModel",
     "state": {
      "_model_module": "@jupyter-widgets/controls",
      "_model_module_version": "1.5.0",
      "_model_name": "ProgressStyleModel",
      "_view_count": null,
      "_view_module": "@jupyter-widgets/base",
      "_view_module_version": "1.2.0",
      "_view_name": "StyleView",
      "bar_color": null,
      "description_width": ""
     }
    },
    "ab8199c72a0b4571b4b8673fbe97bacc": {
     "model_module": "@jupyter-widgets/controls",
     "model_module_version": "1.5.0",
     "model_name": "FloatProgressModel",
     "state": {
      "_dom_classes": [],
      "_model_module": "@jupyter-widgets/controls",
      "_model_module_version": "1.5.0",
      "_model_name": "FloatProgressModel",
      "_view_count": null,
      "_view_module": "@jupyter-widgets/controls",
      "_view_module_version": "1.5.0",
      "_view_name": "ProgressView",
      "bar_style": "success",
      "description": "",
      "description_tooltip": null,
      "layout": "IPY_MODEL_662233903ad84ec2b2dca184394ed647",
      "max": 83,
      "min": 0,
      "orientation": "horizontal",
      "style": "IPY_MODEL_366ee0a00c9c48fcb050ac2cdc4019cb",
      "value": 83
     }
    },
    "b4972818e14d4651afc2bf843640af50": {
     "model_module": "@jupyter-widgets/controls",
     "model_module_version": "1.5.0",
     "model_name": "HTMLModel",
     "state": {
      "_dom_classes": [],
      "_model_module": "@jupyter-widgets/controls",
      "_model_module_version": "1.5.0",
      "_model_name": "HTMLModel",
      "_view_count": null,
      "_view_module": "@jupyter-widgets/controls",
      "_view_module_version": "1.5.0",
      "_view_name": "HTMLView",
      "description": "",
      "description_tooltip": null,
      "layout": "IPY_MODEL_062bda6c84cf4c9fad7e2050a25fc33c",
      "placeholder": "​",
      "style": "IPY_MODEL_973853ef47ba411abbce6dc0ddb709bd",
      "value": " 247/247 [00:00&lt;00:00, 492.02 examples/s]"
     }
    },
    "bb1c2f534f44470d83a27dc68874d863": {
     "model_module": "@jupyter-widgets/controls",
     "model_module_version": "1.5.0",
     "model_name": "DescriptionStyleModel",
     "state": {
      "_model_module": "@jupyter-widgets/controls",
      "_model_module_version": "1.5.0",
      "_model_name": "DescriptionStyleModel",
      "_view_count": null,
      "_view_module": "@jupyter-widgets/base",
      "_view_module_version": "1.2.0",
      "_view_name": "StyleView",
      "description_width": ""
     }
    },
    "bea2cafe1a6d4b349ddbd7c065a81eae": {
     "model_module": "@jupyter-widgets/base",
     "model_module_version": "1.2.0",
     "model_name": "LayoutModel",
     "state": {
      "_model_module": "@jupyter-widgets/base",
      "_model_module_version": "1.2.0",
      "_model_name": "LayoutModel",
      "_view_count": null,
      "_view_module": "@jupyter-widgets/base",
      "_view_module_version": "1.2.0",
      "_view_name": "LayoutView",
      "align_content": null,
      "align_items": null,
      "align_self": null,
      "border": null,
      "bottom": null,
      "display": null,
      "flex": null,
      "flex_flow": null,
      "grid_area": null,
      "grid_auto_columns": null,
      "grid_auto_flow": null,
      "grid_auto_rows": null,
      "grid_column": null,
      "grid_gap": null,
      "grid_row": null,
      "grid_template_areas": null,
      "grid_template_columns": null,
      "grid_template_rows": null,
      "height": null,
      "justify_content": null,
      "justify_items": null,
      "left": null,
      "margin": null,
      "max_height": null,
      "max_width": null,
      "min_height": null,
      "min_width": null,
      "object_fit": null,
      "object_position": null,
      "order": null,
      "overflow": null,
      "overflow_x": null,
      "overflow_y": null,
      "padding": null,
      "right": null,
      "top": null,
      "visibility": null,
      "width": null
     }
    },
    "c806d364eac54dc4bc7a6be5943df324": {
     "model_module": "@jupyter-widgets/controls",
     "model_module_version": "1.5.0",
     "model_name": "HBoxModel",
     "state": {
      "_dom_classes": [],
      "_model_module": "@jupyter-widgets/controls",
      "_model_module_version": "1.5.0",
      "_model_name": "HBoxModel",
      "_view_count": null,
      "_view_module": "@jupyter-widgets/controls",
      "_view_module_version": "1.5.0",
      "_view_name": "HBoxView",
      "box_style": "",
      "children": [
       "IPY_MODEL_5b804c8d76cc461290b0486fe25ba877",
       "IPY_MODEL_ed45b17493e449258168e1514e56c8ad",
       "IPY_MODEL_2f2670e00de44a6a92c49dfffdf37c1c"
      ],
      "layout": "IPY_MODEL_6a27cf046c374913a7ff3829cd8a646e"
     }
    },
    "cfe1c4d17e4947e8a7e01412dc57b59f": {
     "model_module": "@jupyter-widgets/controls",
     "model_module_version": "1.5.0",
     "model_name": "DescriptionStyleModel",
     "state": {
      "_model_module": "@jupyter-widgets/controls",
      "_model_module_version": "1.5.0",
      "_model_name": "DescriptionStyleModel",
      "_view_count": null,
      "_view_module": "@jupyter-widgets/base",
      "_view_module_version": "1.2.0",
      "_view_name": "StyleView",
      "description_width": ""
     }
    },
    "d88138bb5ed649489170652dce08a395": {
     "model_module": "@jupyter-widgets/controls",
     "model_module_version": "1.5.0",
     "model_name": "FloatProgressModel",
     "state": {
      "_dom_classes": [],
      "_model_module": "@jupyter-widgets/controls",
      "_model_module_version": "1.5.0",
      "_model_name": "FloatProgressModel",
      "_view_count": null,
      "_view_module": "@jupyter-widgets/controls",
      "_view_module_version": "1.5.0",
      "_view_name": "ProgressView",
      "bar_style": "success",
      "description": "",
      "description_tooltip": null,
      "layout": "IPY_MODEL_6b4e031b53af40af838ee40390029393",
      "max": 247,
      "min": 0,
      "orientation": "horizontal",
      "style": "IPY_MODEL_68b5225be3234e849f1dc36427dbe4f4",
      "value": 247
     }
    },
    "ed45b17493e449258168e1514e56c8ad": {
     "model_module": "@jupyter-widgets/controls",
     "model_module_version": "1.5.0",
     "model_name": "FloatProgressModel",
     "state": {
      "_dom_classes": [],
      "_model_module": "@jupyter-widgets/controls",
      "_model_module_version": "1.5.0",
      "_model_name": "FloatProgressModel",
      "_view_count": null,
      "_view_module": "@jupyter-widgets/controls",
      "_view_module_version": "1.5.0",
      "_view_name": "ProgressView",
      "bar_style": "success",
      "description": "",
      "description_tooltip": null,
      "layout": "IPY_MODEL_fc1a8332a0024bd7b49951c49f6c207b",
      "max": 83,
      "min": 0,
      "orientation": "horizontal",
      "style": "IPY_MODEL_aad9d03b7d7b45d19d32dd9d368e331c",
      "value": 83
     }
    },
    "f675b12842cb4b1a81bbaf07185424e9": {
     "model_module": "@jupyter-widgets/controls",
     "model_module_version": "1.5.0",
     "model_name": "DescriptionStyleModel",
     "state": {
      "_model_module": "@jupyter-widgets/controls",
      "_model_module_version": "1.5.0",
      "_model_name": "DescriptionStyleModel",
      "_view_count": null,
      "_view_module": "@jupyter-widgets/base",
      "_view_module_version": "1.2.0",
      "_view_name": "StyleView",
      "description_width": ""
     }
    },
    "fc1a8332a0024bd7b49951c49f6c207b": {
     "model_module": "@jupyter-widgets/base",
     "model_module_version": "1.2.0",
     "model_name": "LayoutModel",
     "state": {
      "_model_module": "@jupyter-widgets/base",
      "_model_module_version": "1.2.0",
      "_model_name": "LayoutModel",
      "_view_count": null,
      "_view_module": "@jupyter-widgets/base",
      "_view_module_version": "1.2.0",
      "_view_name": "LayoutView",
      "align_content": null,
      "align_items": null,
      "align_self": null,
      "border": null,
      "bottom": null,
      "display": null,
      "flex": null,
      "flex_flow": null,
      "grid_area": null,
      "grid_auto_columns": null,
      "grid_auto_flow": null,
      "grid_auto_rows": null,
      "grid_column": null,
      "grid_gap": null,
      "grid_row": null,
      "grid_template_areas": null,
      "grid_template_columns": null,
      "grid_template_rows": null,
      "height": null,
      "justify_content": null,
      "justify_items": null,
      "left": null,
      "margin": null,
      "max_height": null,
      "max_width": null,
      "min_height": null,
      "min_width": null,
      "object_fit": null,
      "object_position": null,
      "order": null,
      "overflow": null,
      "overflow_x": null,
      "overflow_y": null,
      "padding": null,
      "right": null,
      "top": null,
      "visibility": null,
      "width": null
     }
    }
   }
  }
 },
 "nbformat": 4,
 "nbformat_minor": 5
}
